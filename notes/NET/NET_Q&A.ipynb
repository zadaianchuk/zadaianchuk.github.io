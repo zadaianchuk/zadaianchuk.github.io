{
 "cells": [
  {
   "cell_type": "markdown",
   "metadata": {},
   "source": [
    "### Questions NET \n",
    "#### Author: Andrii Zadaianchuk\n"
   ]
  },
  {
   "cell_type": "markdown",
   "metadata": {},
   "source": [
    "#### Lecture 1\n",
    "\n",
    "1. What is parallel conductance model? \n",
    "2. What characteristics of PCM do you remember? "
   ]
  },
  {
   "cell_type": "markdown",
   "metadata": {},
   "source": [
    "#### Lecture 2\n",
    "\n",
    "1. When will you use sharp, patch clump, extracellular electrode? \n",
    "\n",
    "\n",
    "- sharp electrod - small leak, so we can not change voltage (with whole cell patch clump, because of seal resistance)\n",
    "- you can record longer, but you change intracellular space without control \n"
   ]
  },
  {
   "cell_type": "markdown",
   "metadata": {},
   "source": [
    "#### Lecture 3\n",
    "\n",
    "1. What issue do you know with space clamp method? \n",
    "\n",
    "2. What Regulation/modulation of channels do you know? \n",
    "\n",
    "3. Name 3 types of channels (receptors)\n",
    "\n",
    "4. What is Conotoxins?\n",
    "\n",
    "5. Compare transporters and channels\n",
    "\n",
    "6. What are properties of tethered toxins? How can we modify them? What application of tethered toxins do you know?\n",
    "\n"
   ]
  },
  {
   "cell_type": "markdown",
   "metadata": {},
   "source": [
    "#### Lecture 4 \n",
    "1. What regimes of transmitter do you know?\n",
    "2. What is the relation between drain current $I_D$ and $V_{gate}$. How can we use it in neuroscience? \n",
    "3. What causes $V_J$?\n",
    "4. How can we check our recordings? \n",
    "5. Can we put many transmitters below one neuron? What do we have to use? \n",
    "6. What assumpion do we do to simplify point contact model? \n",
    "7. What are tree types of $V_J$ responses?\n",
    "8. What are the direction of the AP here? What is possible reason for such order of signals (first positive, then negative)? \n",
    "<img  src=\"./images/l4g10.png\" width=900/>"
   ]
  },
  {
   "cell_type": "markdown",
   "metadata": {},
   "source": [
    "#### Lecture 5\n",
    "\n",
    "1. Give the difinition of fluorophore.\n",
    "\n",
    "2. Name all configurations of FRET that you know.(There was 5 different configurations)\n",
    "\n",
    "3. What kinds of fluorophors do you know? Name several advantages and disadvantegers of each of them. \n",
    "\n",
    "4. What type of fluorescent activity indicators do you know? \n",
    "\n",
    "5. How to get indicators/dyes into cells?"
   ]
  },
  {
   "cell_type": "markdown",
   "metadata": {},
   "source": [
    "#### Lecture 6\n",
    "\n",
    "1. Describe principal patrs of confocal microscope? 2-photon microscope? Compare them. \n",
    "2. Name all superresolution methods that you know. \n",
    "3. Name some of the nonlinear dependances of emmission that allow to use RESOLFT techniques \n",
    "4. What techniques are wide fild? What are scaning? "
   ]
  },
  {
   "cell_type": "markdown",
   "metadata": {},
   "source": [
    "#### Lecture 7\n",
    "\n",
    "1. How morion direction and $Ca^{2+}$ signals are connected?\n",
    "2. Where SAC made connection with DSGC? How does it help GC to be DSGC?\n",
    "3. That is the difference between ssTEM and SBEM EM? \n",
    "4. What stains are used in EM? Why?\n",
    "5. How to choose necessary resolution of EM?\n",
    "6. Why can't we look at the connections of one SAC? What is the problem?\n",
    "7. Is wiring for direction selectivity the same between spiecies? \n",
    "8. Name several examples of using EM. "
   ]
  },
  {
   "cell_type": "markdown",
   "metadata": {},
   "source": [
    "#### Lecture 8 \n"
   ]
  },
  {
   "cell_type": "markdown",
   "metadata": {},
   "source": [
    "#### Lecture 9\n",
    "\n",
    "1. What is $I_{rheobase}$? How is it connected with $\\Delta I_{threshold}$ ? How does it connect with $\\Delta V_{threshold}$?\n",
    "\n",
    "2. How long is the chronaxie compared to the membrane time constant ?\n",
    "\n",
    "3. When Lapique‘s theory is useful? When is it not working?\n",
    "\n",
    "4. What type of electrodes is used for extracellular stimullations? Why?\n",
    "\n",
    "5. What current do we obtain above a capacitive electrode if we apply a voltage ramp with constant slope ?\n",
    "\n",
    "6. What is two domain model? \n",
    "\n",
    "7. What does stationary voltage depend on if we use voltage ramp? \n",
    "\n",
    "8. How do $V_{JM}$ and $V_{FM}$ change during stimulation? What is two ways to induce AP? \n",
    "\n",
    "9. How can we use Strength-duration relations? "
   ]
  },
  {
   "cell_type": "markdown",
   "metadata": {},
   "source": [
    "### Preparatory questions 2016-17\n",
    "\n",
    "1. Name at least 3 important parameters/properties of fluorescent dyes and explain\n",
    "in 1 sentence (each) what they tell you about the dye. (3 points)\n",
    "> Important parameters of fluorescent dyes\n",
    "  * $\\varepsilon$ - molar excitation coefficient is a measurement of how strongly a molecules **absorb light** at a given wavelength.    \n",
    "    Beer-Lambert law: $A=\\varepsilon cL$, where $A$ - absorbance, $c$ - concentation, $L$ - pathlength\n",
    "  * Quantum yield : $ \\Phi_{f}$ $ =\\frac{N_{emitted}}{N_{absorbed}}$\n",
    "  * Fluorescence lifetime $\\tau_f$ - average **time** a molecule spends in its excited\n",
    "(singlet) state **before emission** occurs\n",
    "2. About the relationship between excitation and emission wavelength of fluorescent dyes.\n",
    " - Under standard conditions, is the excitation wavelength of a fluorophor shorter\n",
    "or longer compared to its emission wavelength? (1 point)\n",
    "> Shorter because it has more energy\n",
    " - Can you think of a condition for which this is not the case? Explain in a few\n",
    "words. (4 points)\n",
    "> Maybe when we use 2-photon microscope. Because in this case the exitation energy is energy of two photons, emission wavelength $\\lambda_{em}>\\frac{\\lambda_{ex}}{2}$ so it can we shorter than $\\lambda_{ex}$\n",
    "\n",
    " - Draw a simplified Jablonski diagram for illustration (3 points).\n",
    "> <img  src=\"./images/l6f2_1.png\" width=400/>\n",
    " - What limits the range of excitation wavelengths that can be used for generating\n",
    "fluorescence? (5 points)\n",
    "> - We can not use very small ($\\lambda<200 nm$ ) wavelengths, because they consist such amount of energy ($E=\\frac{hc}{\\lambda}$)  that will demage our fluofore (broke $C-C$ bonds, ionise molecule)\n",
    "> - $\\lambda>700 nm$ - only low lying S1 states can be reached; typically more reactive\n",
    "> $\\Rightarrow$ such fluorophors have low thermal and photochemical stability  \n",
    "\n",
    "3. Spatial resolution in light microscopy.\n",
    " - What limits the spatial resolution of a light microscope? (2 points)\n",
    "> Abbe diffration limit (We can not resolve objects that are $\\approx \\lambda$)\n",
    " - Name at least 2 principles – technical or conceptual improvements – that have\n",
    "been applied to increase the spatial resolution of fluorescent microscopy.\n",
    "Explain each of the examples with 2-3 sentences and, if useful, a drawing. (6\n",
    "points)\n",
    "> **Single Marker Switching (SMS) Microscopy**\n",
    ">\n",
    ">- Image acquisition process:\n",
    "all dyes off $\\rightarrow$ switch-on small fraction\n",
    "$\\rightarrow$ acquire image $\\rightarrow$ all off \n",
    "> <img  src=\"./images/l6f6.png\"/>\n",
    ">**STED**:\n",
    ">- resolution increase by:\n",
    "de-excitation of excited fluorophors via\n",
    "stimulated emission using a red-shifted\n",
    "light beam with a local intensity zero\n",
    "in the center (“donut mode beam”)\n",
    "><img  src=\"./images/l6f5.png\"/>\n",
    "\n",
    "4. What does the Hodgkin-Huxley model describe? Explain how Hodgkin and Huxley set up their model (experimental setup, what was measured, what did they model)"
   ]
  },
  {
   "cell_type": "code",
   "execution_count": 1,
   "metadata": {
    "collapsed": false
   },
   "outputs": [
    {
     "data": {
      "text/plain": [
       "52.650146241630303"
      ]
     },
     "execution_count": 1,
     "metadata": {},
     "output_type": "execute_result"
    }
   ],
   "source": [
    "import numpy as np\n",
    "E_Na=58.3*np.log10(440/50)\n"
   ]
  },
  {
   "cell_type": "markdown",
   "metadata": {},
   "source": [
    "They model unduction of AP.\n",
    "They had independent ion channels and the capacitance of the membrane \n",
    "> HH model the membrane voltage changes during AP. They used giant SQUID axon. (because they need to put two electrode inside axon: one to record, other to change potential of membrane)\n",
    "> 1. They used voltage clamp to measure conductance (as the function of voltage)\n",
    "> 2. They changed extracellular concentration of $Na$ and record $K$ currents, and therefore can calculate 2 functional dependances ($g_K, g_Na$)\n",
    "> 3. They assume existance of gates and that opening and closing of gate is described by linear (regarding to $n$) differential equation: $$\\frac{dn}{dt}=\\alpha(V)n+\\beta(V)(1-n)$$\n",
    "> 4. They used data from voltage clump to find $\\alpha(V)$ and $\\beta(V)$\n",
    "> 5. They compare their model with voltage from current clump. \n",
    "\n",
    "5. Imagine you have a glass micropipette and an isolated neuron in a dish. What\n",
    "else do you need to record an action potential?\n",
    "> - reference electode\n",
    "> - amplifirer (can be used as current injection)\n",
    "> \n",
    "> - I think we need something that congucts electricity(as silvercloride).\n",
    "> - Also we have to stimulate neuron (because it is one isolated neuron) so we need current source, and another pipette to inject the current (also we can use capacitive stimulation)\n",
    "> - Also we may need amplifier, voltage source, so on... \n",
    "\n",
    "6. The potential in the junction between a neuron and an extracellular\n",
    "electrode $V_J$ may be determined by the following relation:\n",
    "$$V_J=R_{SEAL}C_{JM}\\frac{dV_M}{dt}$$\n",
    "$R_{SEAL}$ is the resistance of the cleft, $C_{JM}$ a specific capacitance and $V_M$ the\n",
    "transmembrane potential. Please provide a schematic drawing of the\n",
    "signal detected by the extracellular electrode.\n",
    "> We have capacitive current. (Type A, from [4 lecture](./NET.ipynb#l4p2)) \n",
    "><img  src=\"./images/q3.png\" width=200/>\n",
    "\n",
    "7. Extracellular electrodes can be integrated into arrays at high spatial\n",
    "density. Explain advantages and disadvantages of such high integration.\n",
    "> Advantages: \n",
    "> - We can recond **continues recordings** (so we have many electrodes to one neuron, and always record from all electrodes). We can use these recordings to see propagation of AP in space \n",
    "> - Also we don't have to think about position of neuron (that migrate to some new place), because **we record all the possible positions**. \n",
    "\n",
    "> Disadvantages: \n",
    "> - they **don't transmit light** (can be problem in retina) ???\n",
    "> You don't have the same amount of information as intracellular recotdings \n",
    "> 2D, not 3D\n",
    "\n",
    "\n",
    "8. Explain the strategy discussed in the lecture to map the receptive field\n",
    "of a sensory neuron in the visual system.\n",
    "\n",
    "Which stimuli are needed?\n",
    "What kind of activity is recorded and how ?\n",
    "What approximation is usually performed to provide the size of the\n",
    "receptive field ? [???]\n",
    "> - So we present random combination of colored pixels, many times. (white noise stimuli)\n",
    "> - The spikes of GC is recored by electrode array (retina placed on camera and flexible electrode array are placed above)\n",
    "> - We average stimulus that evoked spikes \n",
    "> - Gaussian approximation "
   ]
  },
  {
   "cell_type": "code",
   "execution_count": null,
   "metadata": {
    "collapsed": true
   },
   "outputs": [],
   "source": []
  }
 ],
 "metadata": {
  "kernelspec": {
   "display_name": "Python 2",
   "language": "python",
   "name": "python2"
  },
  "language_info": {
   "codemirror_mode": {
    "name": "ipython",
    "version": 2
   },
   "file_extension": ".py",
   "mimetype": "text/x-python",
   "name": "python",
   "nbconvert_exporter": "python",
   "pygments_lexer": "ipython2",
   "version": "2.7.11"
  }
 },
 "nbformat": 4,
 "nbformat_minor": 0
}
